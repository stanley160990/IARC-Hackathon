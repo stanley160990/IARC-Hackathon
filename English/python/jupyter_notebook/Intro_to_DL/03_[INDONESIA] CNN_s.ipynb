{
 "cells": [
  {
   "cell_type": "markdown",
   "metadata": {},
   "source": [
    "# CNN Primer and Keras 101 - Lanjutan\n",
    "\n",
    "<b> Jupyter Notebook </b>ini mencakup pengantar Convolutional Neural Networks, dan terminologinya.\n",
    "\n",
    "**Daftar Isi:**\n",
    "\n",
    "- [Convolution Neural Networks ( CNNs )](#Convolution-Neural-Networks-(-CNNs-))\n",
    "- [Mengapa CNN unggul dalam tugas terkait Gambar? ](#Why-CNNs-are-good-in-Image-related-tasks?)\n",
    "- [Implementasi Klasifikasi Gambar menggunakan CNN's](#Implementing-Image-Classification-using-CNN's)\n",
    "- [Kesimpulan](#Conclusion-:)\n",
    "\n",
    "\n",
    "**Setelah menyelesaikan Notebooks ini peserta diharapkan:**\n",
    "\n",
    "- Memahami cara kerja Convolutional Neural Networks (CNN)\n",
    "- Membuat model Klasifikasi CNN dan melatih model tersebut"
   ]
  },
  {
   "cell_type": "markdown",
   "metadata": {},
   "source": [
    "## Convolution Neural Networks ( CNNs ) \n",
    "\n",
    "Convolution Neural Network banyak digunakan dalam bidang <i>Image Classification</i>, <i>Object Detection</i>, dan <i>Face Recognition</i> karena sangat efektif dalam mereduksi jumlah parameter tanpa kehilangan kualitas model.\n",
    "\n",
    "Sekarang mari kita pahami apa yang membentuk Arsitektur CNN dan cara kerjanya: \n",
    "\n",
    "Berikut adalah contoh Arsitektur CNN untuk tugas Klasifikasi: \n",
    "\n",
    "![alt_text](images/cnn.jpeg)\n",
    "\n",
    "*Source: https://fr.mathworks.com/solutions/deep-learning/convolutional-neural-network.html*\n",
    "\n",
    "Setiap gambar input akan melewati serangkaian lapisan konvolusi(<i>convolution layer</i> dengan filter (Kernel), <i>pooling layer</i>, <i>fully connected layer</i> (FC) dan menerapkan fungsi Softmax untuk mengklasifikasikan objek dengan nilai probabilistik antara 0 dan 1.\n",
    "\n",
    "Pembahasan lebih detail: \n",
    "\n",
    "- Convolution Layer \n",
    "- Strides and Padding \n",
    "- Pooling Layer\n",
    "- Fully Connected Layer \n",
    "\n",
    "#### Convolution Layer: \n",
    "\n",
    "Convolution layer adalah lapisan pertama yang mempelajari fitur dari input dengan mempertahankan hubungan antara piksel yang bertetangga. Ukuran Kernel merupakan Hyper-parameter dan dapat diubah sesuai dengan kompleksitas masalah.\n",
    "\n",
    "Sekarang pembahasan mengenai Kernel. Mari kita lihat bagaimana Kernel beroperasi pada layer.\n",
    "\n",
    "![alt_text](images/conv.gif)\n",
    "\n",
    "*Source: https://towardsdatascience.com/a-comprehensive-guide-to-convolutional-neural-networks-the-eli5-way-3bd2b1164a53*\n",
    "\n",
    "Kita telah melihat bagaimana operasi konvolusi bekerja, dan sekarang mari kita lihat bagaimana operasi konvolusi dilakukan dengan banyak lapisan.\n",
    "\n",
    "![alt_text](images/conv_depth.png)\n",
    "\n",
    "*Source: https://towardsdatascience.com/a-comprehensive-introduction-to-different-types-of-convolutions-in-deep-learning-669281e58215*\n",
    "\n",
    "\n",
    "Ket:\n",
    "\n",
    "- Hin: Dimensi tinggi layer\n",
    "- Win: Dimensi lebar layer\n",
    "- Din: Kedalaman lapisan\n",
    "- h: tinggi kernel\n",
    "- w: lebar kernel\n",
    "- Dout: Jumlah kernel yang bekerja pada Layer\n",
    "\n",
    "<b>Note</b>: Din untuk Layer dan Kernel harus sama.\n",
    "\n",
    "Di sini <b>Din</b> dan <b>Dout</b> juga disebut sebagai jumlah saluran dari layer. Kita dapat melihat dari gambar pertama bahwa biasanya jumlah saluran terus bertambah di atas lapisan sementara tinggi dan lebarnya terus berkurang. Hal ini dilakukan agar filter mempelajari fitur dari lapisan sebelumnya, mereka juga bisa disebut sebagai saluran fitur.\n"
   ]
  },
  {
   "cell_type": "markdown",
   "metadata": {},
   "source": [
    "\n",
    "#### Strides dan Padding\n",
    "\n",
    "<i>Stride</i> adalah jumlah piksel yang bergeser di atas matriks input selama konvolusi. Saat jumlah <i>stride</i> = 1, maka filter akan dipindahkan ke 1 piksel sekaligus. Saat jumlah <i>stride</i> = 2, maka filter akan dipindahkan ke 2 piksel sekaligus dan seterusnya.\n",
    "\n",
    "Terkadang filter tidak pas dengan sempurna pada gambar masukan. Dalam hal ini, terdapat dua opsi:\n",
    "- Memadatkan gambar dengan angka nol (<i>zero-padding</i>)\n",
    "- Menghapus bagian gambar yang tidak sesuai dengan filter. Hal ini disebut bantalan valid (<i>valid padding</i>) yang hanya menyimpan bagian gambar yang valid.\n",
    "\n",
    "#### Pooling Layer:\n",
    "\n",
    "Bagian <i>Pooling Layer</i> akan mengurangi jumlah parameter ketika gambar terlalu besar. Penyatuan spasial (<i>Spatial pooling</i>) juga disebut <i>subsampling</i> atau <i>downsampling</i>, yang mengurangi dimensi setiap <i>map</i> tetapi tetap mempertahankan informasi penting. Penyatuan spasial memiliki beberapa tipe:\n",
    "- Max Pooling:\n",
    "    - Max pooling adalah salah satu <i>pooling</i> yang umum digunakan, dan mengambil <b>elemen terbesar</b> dari peta fitur(<i>feature map</i> yang diperbaiki.\n",
    "- Average Pooling\n",
    "    - Mengambil <b>rata-rata elemen</b> <i>feature map</i> disebut Average pooling.\n",
    "- Sum Pooling\n",
    "    - <b>Menjumlahkan seluruh elemen</b> <i>feature map</i> disebut Sum Pooling.\n",
    "\n",
    "![alt_text](images/max_pool.png)\n",
    "\n",
    "*Source: https://www.programmersought.com/article/47163598855/*\n",
    "\n",
    "#### Fully Connected Layer:\n",
    "\n",
    "Proses selanjutnya adalah meratakan keluaran dari lapisan konvolusi dan memasukkannya ke dalam lapisan _Fully Connected_ untuk menghasilkan prediksi. <i>Fully Connected Layer</i> adalah Model JST yang inputnya adalah fitur dari Input yang diperoleh dari Lapisan Konvolusi.\n",
    "\n",
    "<i>Fully Connected Layer</i>  kemudian dilatih bersama dengan _kernel_ selama proses pelatihan.\n",
    "\n",
    "Kita juga akan membandingkan antara CNN dan ANN saat peragaan contoh untuk membandingkan hasilnya pada tugas Klasifikasi Gambar.\n",
    "\n",
    "### Transposed Convolution:\n",
    "\n",
    "Ketika menerapkan operasi Konvolusi pada gambar, ditemukan bahwa jumlah saluran bertambah, sementara tinggi dan lebar gambar berkurang, dalam beberapa kasus, untuk pengaplikasian yang berbeda diperlukan proses <i>upsampling</i> gambar, _Transposed konvolusi_ membantu untuk sampel gambar dari lapisan ini.\n",
    "\n",
    "<b>Notes</b>: <i>Upsampling</i> adalah proses menaikkan banyaknya sampel sinyal dengan menyisipkan sampel bernilai 0 di antara dua buah sampel dalam sinyal masukan.<a href='https://adoc.pub/download/bab-2-landasan-teori-program-pengurangan-noise-pada-citra-di.html#:~:text=Upsampling%20adalah%20proses%20menaikkan%20banyaknya,buah%20sampel%20dalam%20sinyal%20masukan'>Sumber</a>\n",
    "\n",
    "Berikut adalah animasi untuk <i>Transposed Convolution</i>:\n",
    "\n",
    "<table><tr>\n",
    "<td> <img src=\"images/convtranspose.gif\" alt=\"Drawing\" style=\"width: 540px;\"/></td>\n",
    "<td> <img src=\"images/convtranspose_conv.gif\" alt=\"Drawing\" style=\"width: 500px;\"/> </td>\n",
    "</tr></table>\n",
    "\n",
    "\n",
    "*Source https://towardsdatascience.com/a-comprehensive-introduction-to-different-types-of-convolutions-in-deep-learning-669281e58215*\n",
    "\n",
    "<i>Transposed Convolution</i> juga dapat divisualisasikan sebagai Konvolusi sebuah Gambar dengan padding 2x2 seperti yang ditampilkan pada gambar sebelah kanan.\n",
    "\n",
    "\n",
    "## Mengapa CNN unggul dalam pengelolaan Gambar? \n",
    "\n",
    "Pada tahun 1970, **David Marr** menulis sebuah buku berjudul [Vision](https://mitpress.mit.edu/books/vision). Buku tersebut adalah terobosan dalam memahami bagaimana otak melakukan penglihatan; dia menyatakan bahwa tugas penglihatan dilakukan secara hierarkis. Anda memulai dengan sederhana dan menjadi kompleks. Misalnya, Anda mulai dengan yang sederhana seperti mengidentifikasi tepi, warna dan kemudian membangunnya untuk mendeteksi objek dan kemudian mengklasifikasikannya dan seterusnya.\n",
    "\n",
    "Arsitektur CNN dirancang sedemikian rupa untuk meniru teknik otak manusia untuk menangani gambar. Karena konvolusi terutama digunakan untuk mengekstraksi fitur tingkat tinggi dari gambar seperti tepi/pola lainnya, algoritme ini mencoba meniru pemahaman kita tentang pengelihatan. Filter tertentu melakukan operasi seperti mengaburkan gambar, mempertajam gambar, dan kemudian melakukan operasi penyatuan pada masing-masing filter ini untuk mengekstraksi informasi dari suatu gambar. Seperti yang dinyatakan sebelumnya, pemahaman kita tentang penglihatan terdiri dari bahwa penglihatan adalah proses hierarkis, dan otak kita berurusan dengan penglihatan dengan cara yang sama. CNN juga memahami dan mengklasifikasikan gambar dengan cara yang sama, sehingga menjadikannya pilihan yang tepat untuk tugas semacam ini.\n",
    "\n"
   ]
  },
  {
   "cell_type": "markdown",
   "metadata": {},
   "source": [
    "# Implementasi Klasifikasi Gambar menggunakan CNN's\n",
    "\n",
    "Langkah-langkah Data Pre-processing:"
   ]
  },
  {
   "cell_type": "code",
   "execution_count": 1,
   "metadata": {},
   "outputs": [],
   "source": [
    "# Mengimport Library yang dibutuhkan\n",
    "\n",
    "from __future__ import absolute_import, division, print_function, unicode_literals\n",
    "\n",
    "# TensorFlow dan tf.keras\n",
    "import tensorflow as tf\n",
    "from tensorflow import keras\n",
    "\n",
    "# Library pembantu\n",
    "import numpy as np\n",
    "import matplotlib.pyplot as plt"
   ]
  },
  {
   "cell_type": "code",
   "execution_count": 2,
   "metadata": {},
   "outputs": [
    {
     "name": "stdout",
     "output_type": "stream",
     "text": [
      "Downloading data from https://storage.googleapis.com/tensorflow/tf-keras-datasets/train-labels-idx1-ubyte.gz\n",
      "32768/29515 [=================================] - 0s 1us/step\n",
      "40960/29515 [=========================================] - 0s 1us/step\n",
      "Downloading data from https://storage.googleapis.com/tensorflow/tf-keras-datasets/train-images-idx3-ubyte.gz\n",
      "26427392/26421880 [==============================] - 6s 0us/step\n",
      "26435584/26421880 [==============================] - 6s 0us/step\n",
      "Downloading data from https://storage.googleapis.com/tensorflow/tf-keras-datasets/t10k-labels-idx1-ubyte.gz\n",
      "16384/5148 [===============================================================================================] - 0s 0s/step\n",
      "Downloading data from https://storage.googleapis.com/tensorflow/tf-keras-datasets/t10k-images-idx3-ubyte.gz\n",
      "4423680/4422102 [==============================] - 1s 0us/step\n",
      "4431872/4422102 [==============================] - 1s 0us/step\n",
      "Jumlah Gambar Pelatihan :(60000, 28, 28)\n",
      "Jumlah Label Pelatihan :(60000,)\n",
      "Jumlah Gambar Uji :(10000, 28, 28)\n",
      "Jumlah Label Uji :(10000,)\n",
      "Kumpulan Label Pelatihan :[9 0 0 ... 3 0 5]\n",
      "Kumpulan Label Uji :[9 2 1 ... 8 1 5]\n"
     ]
    }
   ],
   "source": [
    "# Import Dataset\n",
    "fashion_mnist = keras.datasets.fashion_mnist\n",
    "\n",
    "(train_images, train_labels), (test_images, test_labels) = fashion_mnist.load_data()\n",
    "\n",
    "class_names = ['T-shirt/top', 'Trouser', 'Pullover', 'Dress', 'Coat',\n",
    "               'Sandal', 'Shirt', 'Sneaker', 'Bag', 'Ankle boot']\n",
    "\n",
    "# Menampilkan ukuran dari data Training\n",
    "print(\"Jumlah Gambar Pelatihan :\"+str(train_images.shape))\n",
    "# Menampilkan ukuran dari Training Label\n",
    "print(\"Jumlah Label Pelatihan :\"+str(train_labels.shape))\n",
    "\n",
    "# Menampilkan ukuran data Testing \n",
    "print(\"Jumlah Gambar Uji :\"+str(test_images.shape))\n",
    "# Menampilkan ukuran data Label Testing \n",
    "print(\"Jumlah Label Uji :\"+str(test_labels.shape))\n",
    "\n",
    "# Menampilkan output\n",
    "print(\"Kumpulan Label Pelatihan :\"+str(train_labels))\n",
    "# Data Label Uji\n",
    "print(\"Kumpulan Label Uji :\"+str(test_labels))\n",
    "\n",
    "# Proses Normalisasi gambar\n",
    "train_images = train_images / 255.0\n",
    "test_images = test_images / 255.0"
   ]
  },
  {
   "cell_type": "markdown",
   "metadata": {},
   "source": [
    "## Lanjutan Data pre-processing: \n",
    "\n",
    "Ukuran dari data Training sudah terlihat yaitu `(60000,28,28)`.\n",
    "\n",
    "Dalam CNN, kita perlu menjadikan data berbentuk 4D Array seperti berikut: \n",
    "\n",
    "`( Jml_Gambar, X-dims, Y-dims, # jumlah Saluran warna Gambar )`\n",
    "\n",
    "Jadi, dikarenakan gambar kita memiliki skala abu-abu (<i>grayscale</i>), kita akan membentuknya kembali menjadi `(60000,28,28,1)` sebelum meneruskannya ke Arsitektur kita.\n",
    "\n",
    "<b>Catatan</b>: dalam jumlah Saluran warna Gambar, angka <code>1</code> mewakilkan gambar hitam putih (<i>grayscale</i>), sedangkan <code>3</code> mewakilkan gambar berwarna (R,G,B).\n",
    "\n"
   ]
  },
  {
   "cell_type": "code",
   "execution_count": 3,
   "metadata": {},
   "outputs": [],
   "source": [
    "# Bentuk ulang data input dari (28, 28) menjadi (28, 28, 1)\n",
    "w, h = 28, 28\n",
    "train_images = train_images.reshape(train_images.shape[0], w, h, 1)\n",
    "test_images = test_images.reshape(test_images.shape[0], w, h, 1)"
   ]
  },
  {
   "cell_type": "markdown",
   "metadata": {},
   "source": [
    "## Mendefinisikan Convolution Layer\n",
    "\n",
    "Mari kita lihat langkah untuk mendefinisikan Convolution Layer, MaxPooling Layer dan Dropout\n",
    "\n",
    "\n",
    "####  Convolution Layer\n",
    "\n",
    "Kita akan menggunakan API berikut untuk menentukan Convolution Layer.\n",
    "\n",
    "```tf.keras.layers.Conv2D(filters, kernel_size, padding='valid', activation=None, input_shape)```\n",
    "\n",
    "\n",
    "Penjelasan parameter di atas:\n",
    "\n",
    "- Filter: Dimensi ruang keluaran (yaitu jumlah filter keluaran dalam konvolusi).\n",
    "- Kernel_size: Sebuah Integer atau tuple/daftar 2 integer, yang menentukan tinggi dan lebar jendela konvolusi 2D. Dapat berupa bilangan bulat tunggal untuk menentukan nilai yang sama untuk semua dimensi spasial.\n",
    "- Padding: salah satu dari \"valid\" atau \"same\" (case-insensitive).\n",
    "- Activation: Fungsi aktivasi untuk digunakan (lihat aktivasi). Jika Anda tidak menentukan apa pun, tidak ada aktivasi yang diterapkan (mis. aktivasi \"linier\": a(x) = x).\n",
    "\n",
    "Lihat di sini untuk Dokumentasi Lengkap -> [Convolutional Layers](https://keras.io/layers/convolutional/) \n",
    "\n",
    "#### Pooling Layer \n",
    "\n",
    "`tf.keras.layers.MaxPooling2D(pool_size=2)`\n",
    "\n",
    "- Pool size: Ukuran jendela max pooling.\n",
    "\n",
    "Keras Documentation -> [Pooling Layers](https://keras.io/layers/pooling/)\n",
    "\n",
    "#### Dropout \n",
    "\n",
    "<i>Dropout</i> adalah sebuah pendekatan regularisasi dalam <i>neural networks</i> yang membantu mengurangi pembelajaran yang saling bergantung di antara neuron.\n",
    "\n",
    "Sederhananya, <i>dropout</i> mengacu pada pengabaian unit (yaitu neuron) selama fase pelatihan dari kumpulan neuron tertentu yang dipilih secara acak. Dengan \"mengabaikan\", dimaksudkan untuk unit-unit ini tidak dipertimbangkan selama umpan maju (<i>forward pass</i>) atau mundur (<i>backward pass</i>) tertentu.\n",
    "\n",
    "Hal tersebut didefinisikan oleh fungsi berikut:\n",
    "\n",
    "`tf.keras.layers.Dropout(0.3)`\n",
    "\n",
    "- Parameter:  <i>float</i> antara 0 dan 1. Besarnya dari unit masukan yang akan dibuang(<i>drop</i>.\n",
    "\n",
    "Keras Documentation -> [Dropout](https://keras.io/layers/core/#dropout)\n",
    "\n",
    "## Mendefinisikan Model <i>Machine Learning</i>\n",
    "\n",
    "Setelah mengetahui kode untuk membuat CNN, Mari kita buat Model <i>Machine Learning</i> dengan 5 Lapisan:\n",
    "\n",
    "- Lapisan Input: ( 28 , 28 ,1 ) \n",
    "    - Ukuran Gambar Input\n",
    "- Lapisan Convolution:\n",
    "    - Lapisan Pertama: Ukuran Kernel ( 2x2 ) dan kita mendapatkan 64 lapisan darinya. \n",
    "        - Ukuran Pooling Layer ( 2 x 2) membuat ukuran lapisan menjadi ( 14 x 14 x 64 )  \n",
    "    - Lapisan Kedua: Ukuran Kernel ( 2 x 2 ) dan mendapatkan 32 lapisan.\n",
    "        - Ukuran Pooling Layer ( 2 x 2 ) membuat ukuran lapisan menjadi ( 7 x 7 x 32 )\n",
    "- Lapisan Fully Connected: \n",
    "    - Meratakkan Convolution layers menjadi 1567 nodes  = ( 7 * 7 * 32 ) \n",
    "    - Lapisan Dense, 256 \n",
    "- Lapisan Output: \n",
    "    - Lapisan Densely Connected dengan 10 class dengan metode aktivasi `softmax` \n",
    "    \n",
    "![alt_text](images/our_cnn.png)\n",
    "    \n",
    " Di sini, Mari kita definisikan Model kita di Keras"
   ]
  },
  {
   "cell_type": "code",
   "execution_count": 4,
   "metadata": {},
   "outputs": [
    {
     "name": "stdout",
     "output_type": "stream",
     "text": [
      "Model: \"sequential\"\n",
      "_________________________________________________________________\n",
      "Layer (type)                 Output Shape              Param #   \n",
      "=================================================================\n",
      "conv2d (Conv2D)              (None, 28, 28, 64)        320       \n",
      "_________________________________________________________________\n",
      "max_pooling2d (MaxPooling2D) (None, 14, 14, 64)        0         \n",
      "_________________________________________________________________\n",
      "conv2d_1 (Conv2D)            (None, 14, 14, 32)        8224      \n",
      "_________________________________________________________________\n",
      "max_pooling2d_1 (MaxPooling2 (None, 7, 7, 32)          0         \n",
      "_________________________________________________________________\n",
      "dropout (Dropout)            (None, 7, 7, 32)          0         \n",
      "_________________________________________________________________\n",
      "flatten (Flatten)            (None, 1568)              0         \n",
      "_________________________________________________________________\n",
      "dense (Dense)                (None, 256)               401664    \n",
      "_________________________________________________________________\n",
      "dropout_1 (Dropout)          (None, 256)               0         \n",
      "_________________________________________________________________\n",
      "dense_1 (Dense)              (None, 10)                2570      \n",
      "=================================================================\n",
      "Total params: 412,778\n",
      "Trainable params: 412,778\n",
      "Non-trainable params: 0\n",
      "_________________________________________________________________\n"
     ]
    }
   ],
   "source": [
    "from tensorflow.keras import backend as K\n",
    "import tensorflow as tf\n",
    "K.clear_session()\n",
    "model = tf.keras.Sequential()\n",
    "\n",
    "# Menentukan bentuk input di lapisan pertama jaringan saraf\n",
    "model.add(tf.keras.layers.Conv2D(filters=64, kernel_size=2, padding='same', activation='relu', input_shape=(28,28,1))) \n",
    "model.add(tf.keras.layers.MaxPooling2D(pool_size=2))\n",
    "# model.add(tf.keras.layers.Dropout(0.3))\n",
    "# Lapisan Konvolusi Kedua\n",
    "model.add(tf.keras.layers.Conv2D(filters=32, kernel_size=2, padding='same', activation='relu'))\n",
    "model.add(tf.keras.layers.MaxPooling2D(pool_size=2))\n",
    "model.add(tf.keras.layers.Dropout(0.3))\n",
    "# Lapisan Fully Connected\n",
    "model.add(tf.keras.layers.Flatten())\n",
    "model.add(tf.keras.layers.Dense(256, activation='relu'))\n",
    "model.add(tf.keras.layers.Dropout(0.5))\n",
    "model.add(tf.keras.layers.Dense(10, activation='softmax'))\n",
    "\n",
    "# Melihat ringkasan model\n",
    "model.summary()"
   ]
  },
  {
   "cell_type": "markdown",
   "metadata": {},
   "source": [
    "### Kompilasi Model\n",
    "\n",
    "Sebelum model siap untuk pelatihan, diperlukan beberapa pengaturan tambahan. Hal ini ditambahkan selama langkah *kompilasi* model:\n",
    "\n",
    "* *Loss function* — Hal ini mengukur seberapa akurat model selama pelatihan. \n",
    "* *Optimizer* —Berguna untuk bagaimana caranya model memperbaharui dirinya berdasarkan data yang dimiliki dan berdasarkan <i>loss function</i> yang didefinsikan.\n",
    "* *Metrics* —Digunakan untuk memonitor fase <i>Training</i> dan <i>Testing</i>.Pada contoh ini menggunakan *akurasi* , sebagian kecil dari gambar yang diklasifikasikan dengan benar."
   ]
  },
  {
   "cell_type": "code",
   "execution_count": 5,
   "metadata": {},
   "outputs": [],
   "source": [
    "model.compile(optimizer='adam',\n",
    "              loss='sparse_categorical_crossentropy',\n",
    "              metrics=['accuracy'])"
   ]
  },
  {
   "cell_type": "markdown",
   "metadata": {},
   "source": [
    "## Melatih Model\n",
    "\n",
    "Melatih model jaringan saraf memerlukan langkah-langkah berikut:\n",
    "\n",
    "1. Masukkan data pelatihan ke model. Dalam contoh ini, data pelatihan ada dalam array `train_images` dan `train_labels`.\n",
    "2. Model belajar mengasosiasikan gambar dan label.\n",
    "3. Model diminta untuk membuat prediksi tentang <i>test-set</i>dalam contoh ini, array `test_images`. Memverifikasi bahwa prediksi cocok dengan label dari array `test_labels`.\n",
    "\n",
    "Untuk memulai pelatihan, panggil metode `model.fit` — hal ini disebut \"fits\" model untuk training data:"
   ]
  },
  {
   "cell_type": "code",
   "execution_count": 6,
   "metadata": {},
   "outputs": [
    {
     "name": "stdout",
     "output_type": "stream",
     "text": [
      "Epoch 1/5\n",
      "1875/1875 [==============================] - 44s 23ms/step - loss: 0.5221 - accuracy: 0.8113\n",
      "Epoch 2/5\n",
      "1875/1875 [==============================] - 43s 23ms/step - loss: 0.3642 - accuracy: 0.8676\n",
      "Epoch 3/5\n",
      "1875/1875 [==============================] - 43s 23ms/step - loss: 0.3193 - accuracy: 0.8813\n",
      "Epoch 4/5\n",
      "1875/1875 [==============================] - 44s 23ms/step - loss: 0.2962 - accuracy: 0.8918\n",
      "Epoch 5/5\n",
      "1875/1875 [==============================] - 45s 24ms/step - loss: 0.2774 - accuracy: 0.8969\n"
     ]
    },
    {
     "data": {
      "text/plain": [
       "<keras.callbacks.History at 0x211edd79dc0>"
      ]
     },
     "execution_count": 6,
     "metadata": {},
     "output_type": "execute_result"
    }
   ],
   "source": [
    "model.fit(train_images, train_labels,batch_size=32 ,epochs=5)"
   ]
  },
  {
   "cell_type": "code",
   "execution_count": 7,
   "metadata": {},
   "outputs": [
    {
     "name": "stdout",
     "output_type": "stream",
     "text": [
      "313/313 - 3s - loss: 0.2613 - accuracy: 0.9024\n",
      "\n",
      "Test accuracy: 0.902400016784668\n"
     ]
    }
   ],
   "source": [
    "# Mengevaluasi Model menggunakan Test Set\n",
    "\n",
    "test_loss, test_acc = model.evaluate(test_images,  test_labels, verbose=2)\n",
    "\n",
    "print('\\nTest accuracy:', test_acc)"
   ]
  },
  {
   "cell_type": "markdown",
   "metadata": {},
   "source": [
    "## Membuat Prediksi: "
   ]
  },
  {
   "cell_type": "code",
   "execution_count": 8,
   "metadata": {},
   "outputs": [],
   "source": [
    "# Membuat prediksi dari data test_images\n",
    "\n",
    "predictions = model.predict(test_images)"
   ]
  },
  {
   "cell_type": "code",
   "execution_count": 9,
   "metadata": {},
   "outputs": [],
   "source": [
    "# Mengubah input data dari (28, 28) menjadi (28, 28, 1)\n",
    "w, h = 28, 28\n",
    "train_images = train_images.reshape(train_images.shape[0], w, h)\n",
    "test_images = test_images.reshape(test_images.shape[0], w, h)\n",
    "\n",
    "\n",
    "# Fungsi bantuan untuk Visualisasi gambar \n",
    "def plot_image(i, predictions_array, true_label, img):\n",
    "  predictions_array,true_label, img = predictions_array, true_label[i], img[i]\n",
    "  plt.grid(False)\n",
    "  plt.xticks([])\n",
    "  plt.yticks([])\n",
    "\n",
    "  plt.imshow(img, cmap=plt.cm.binary)\n",
    "\n",
    "  predicted_label = np.argmax(predictions_array)\n",
    "  if predicted_label == true_label:\n",
    "    color = 'blue'\n",
    "  else:\n",
    "    color = 'red'\n",
    "\n",
    "  plt.xlabel(\"{} {:2.0f}% ({})\".format(class_names[predicted_label],\n",
    "                                100*np.max(predictions_array),\n",
    "                                class_names[true_label]),\n",
    "                                color=color)\n",
    "\n",
    "def plot_value_array(i, predictions_array, true_label):\n",
    "  predictions_array, true_label = predictions_array, true_label[i]\n",
    "  plt.grid(False)\n",
    "  plt.xticks(range(10))\n",
    "  plt.yticks([])\n",
    "  thisplot = plt.bar(range(10), predictions_array, color=\"#777777\")\n",
    "  plt.ylim([0, 1])\n",
    "  predicted_label = np.argmax(predictions_array)\n",
    "\n",
    "  thisplot[predicted_label].set_color('red')\n",
    "  thisplot[true_label].set_color('blue')"
   ]
  },
  {
   "cell_type": "code",
   "execution_count": 10,
   "metadata": {},
   "outputs": [
    {
     "data": {
      "image/png": "[encoded data removed]",
      "text/plain": [
       "<Figure size 864x720 with 30 Axes>"
      ]
     },
     "metadata": {
      "needs_background": "light"
     },
     "output_type": "display_data"
    }
   ],
   "source": [
    "# Plot X gambar pertama pada test_images, label hasil prediksi , dan label yang sebenarnya.\n",
    "# Warnai prediksi yang benar dengan warna biru dan prediksi yang salah dengan warna merah.\n",
    "num_rows = 5\n",
    "num_cols = 3\n",
    "num_images = num_rows*num_cols\n",
    "plt.figure(figsize=(2*2*num_cols, 2*num_rows))\n",
    "for i in range(num_images):\n",
    "  plt.subplot(num_rows, 2*num_cols, 2*i+1)\n",
    "  plot_image(i, predictions[i], test_labels, test_images)\n",
    "  plt.subplot(num_rows, 2*num_cols, 2*i+2)\n",
    "  plot_value_array(i, predictions[i], test_labels)\n",
    "plt.tight_layout()\n",
    "plt.show()"
   ]
  },
  {
   "cell_type": "markdown",
   "metadata": {},
   "source": [
    "### Kesimpulan: \n",
    "\n",
    "Menjalankan kedua model selama 5 Epochs, berikut adalah tabel perbandingannya: \n",
    "\n",
    "|  Model   | Train Accuracy  | Train Loss  | Test Accuracy | Test Loss |\n",
    "|----------|-----------------|-------------|---------------|-----------|\n",
    "| Fully connected Neural Networks -After 5 Epochs |            0.8923 |       0.2935 |       0.8731  |     0.2432|           \n",
    "| Convolution networks - After 5 Epochs  |              0.8860|       0.3094 |         0.9048 |       0.1954 |        \n",
    "\n",
    "\n",
    "\n",
    "## Latihan \n",
    "Lakukan pengubahan untuk setiap nilai Hyper-Parameter (Epoch, depth of layers , kernel size ...) untuk menurunkan nilai Loss\n",
    "\n",
    "## Catatan:\n",
    "<mark>Matikan Kernel Jupyter setelah menyelesaikan Hands-On.</mark>"
   ]
  },
  {
   "cell_type": "markdown",
   "metadata": {},
   "source": [
    "\n",
    "\n",
    "## Acknowledgements: \n",
    "\n",
    "\n",
    "[Transposed Convolutions explained](https://medium.com/apache-mxnet/transposed-convolutions-explained-with-ms-excel-52d13030c7e8)\n",
    "\n",
    "[Why are CNNs used more for computer vision tasks than other tasks?](https://www.quora.com/Why-are-CNNs-used-more-for-computer-vision-tasks-than-other-tasks)\n",
    "\n",
    "[Comprehensive introduction to Convolution](https://towardsdatascience.com/a-comprehensive-introduction-to-different-types-of-convolutions-in-deep-learning-669281e58215)\n",
    "\n",
    "## Licensing\n",
    "This material is released by OpenACC-Standard.org, in collaboration with NVIDIA Corporation, under the Creative Commons Attribution 4.0 International (CC BY 4.0)."
   ]
  },
  {
   "cell_type": "code",
   "execution_count": null,
   "metadata": {},
   "outputs": [],
   "source": []
  }
 ],
 "metadata": {
  "kernelspec": {
   "display_name": "Python 3",
   "language": "python",
   "name": "python3"
  },
  "language_info": {
   "codemirror_mode": {
    "name": "ipython",
    "version": 3
   },
   "file_extension": ".py",
   "mimetype": "text/x-python",
   "name": "python",
   "nbconvert_exporter": "python",
   "pygments_lexer": "ipython3",
   "version": "3.8.8"
  }
 },
 "nbformat": 4,
 "nbformat_minor": 2
}
