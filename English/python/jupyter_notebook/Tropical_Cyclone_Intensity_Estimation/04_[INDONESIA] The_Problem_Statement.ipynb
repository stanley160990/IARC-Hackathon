{
 "cells": [
  {
   "cell_type": "markdown",
   "metadata": {},
   "source": [
    "&emsp;&emsp;&emsp;&emsp;&emsp;\n",
    "&emsp;&emsp;&emsp;&emsp;&emsp;\n",
    "&emsp;&emsp;&emsp;&emsp;&emsp;\n",
    "&emsp;&emsp;&emsp;&emsp;&emsp;\n",
    "&emsp;&emsp;&emsp;&emsp;&emsp;\n",
    "&emsp;&emsp;&ensp;\n",
    "[Home Page](../Start_Here.ipynb)\n",
    "\n",
    "\n",
    "&emsp;&emsp;&emsp;&emsp;&emsp;\n",
    "&emsp;&emsp;&emsp;&emsp;&emsp;\n",
    "&emsp;&emsp;&emsp;&emsp;&emsp;\n",
    "&emsp;&emsp;&emsp;&emsp;&emsp;\n",
    "&emsp;&emsp;&emsp;&emsp;&emsp;\n",
    "&emsp;&emsp;&emsp;\n",
    "[1]\n",
    "[2](Approach_to_the_Problem_&_Inspecting_and_Cleaning_the_Required_Data.ipynb)\n",
    "[3](Manipulation_of_Image_Data_and_Category_Determination_using_Text_Data.ipynb)\n",
    "[4](Countering_Data_Imbalance.ipynb)\n",
    "[5](Competition.ipynb)\n",
    "&emsp;&emsp;&emsp;&emsp;&emsp;\n",
    "&emsp;&emsp;&emsp;&emsp;&emsp;\n",
    "&emsp;&emsp;&emsp;&emsp;&emsp;\n",
    "&emsp;&emsp;&emsp;&emsp;&emsp;\n",
    "[Next Notebook](Approach_to_the_Problem_&_Inspecting_and_Cleaning_the_Required_Data.ipynb)"
   ]
  },
  {
   "cell_type": "markdown",
   "metadata": {},
   "source": [
    "# Estimasi Intensitas Siklon Tropis menggunakan Deep Convolutional Neural Network \n",
    "\n",
    "\n",
    "*Dalam melakukan estimasi intensitas siklon tropis merupakan tugas yang menantang karena membutuhkan pengetahuan domain saat mengekstraksi fitur, pra-pemrosesan yang signifikan, berbagai set parameter yang diperoleh dari satelit, dan intervensi manusia untuk analisis.*\n",
    "\n",
    "*Inkonsistensi hasil, pra-pemrosesan data yang signifikan, kompleksitas domain masalah, dan masalah pada generalisasi adalah beberapa masalah yang terkait dengan estimasi intensitas.* \n",
    "\n",
    "*Dalam Jupyter Notebook ini, kami menjalankan arsitektur jaringan saraf konvolusional yang mendalam untuk mengkategorikan badai berdasarkan intensitas menggunakan grafik\n",
    "unit pemrosesan.*\n",
    "\n",
    "*This Jupyter Notebook is a recreation of the Research Paper titled **\" Tropical Cyclone Intensity Estimation Using a Deep Convolutional Neural Network \"** by Ritesh Pradhan, Ramazan S. Aygun, Senior Member, IEEE, Manil Maskey, Member, IEEE, Rahul Ramachandran, Senior Member, IEEE, and Daniel J. Cecil *\n"
   ]
  },
  {
   "cell_type": "markdown",
   "metadata": {},
   "source": [
    "## Motivasi untuk masalah ini  \n",
    "\n",
    "\n",
    "\n",
    "##### Karena badai (atau siklon tropis) memiliki ancaman substansial dan menyebabkan kerusakan signifikan pada kehidupan dan properti, mempelajari tahapan badai sangat penting untuk menentukan dampaknya. Dari perspektif ilmiah, menentukan intensitas TC yang akurat membantu. \n",
    "\n",
    "\n",
    "* Catatan sejarah TC yang lebih akurat, terutama jika suatu teknik dapat diterapkan secara konsisten pada citra satelit yang lebih tua (yaitu, analisis ulang intensitas)  \n",
    "\n",
    "* Memberikan perkiraan intensitas yang konsisten karena perkiraan intensitas saat ini dibuat melalui algoritma subjektif (teknik Dvorak) yang diterapkan secara tidak konsisten di berbagai area perkiraan. Kesalahan awal terlalu tinggi, terutama untuk yang lemah dan badai yang sedang bertransisi dalam struktur.\n",
    "\n",
    "\n",
    "Dalam contoh ini, kami menggunakan Saffir-Simpson Hurricane Wind Scale (SSHWS) bersama dengan kategorisasi intensitas untuk badai tropis dan depresi tropis sebagai kategori intensitas siklon tropis (TC).\n",
    "\n",
    "Karena intensitas TC didasarkan pada kecepatan angin maksimum (MWS), memperkirakan intensitas TC hanya dengan menggunakan konten gambar adalah masalah yang menantang. Beberapa teknik memanfaatkan citra satelit untuk memperkirakan intensitas siklon tropis menggunakan teknik Dvorak dan deviation-angle variance technique (DAVT).\n",
    "\n",
    "![alt_text](images/cat+dvat.png)\n",
    "\n",
    "### Teknik Dvorak : \n",
    "\n",
    "Teknik Dvorak adalah metode yang menggunakan citra satelit Inframerah dan/atau terlihat yang ditingkatkan untuk memperkirakan intensitas sistem tropis secara kuantitatif. Pola awan dalam citra satelit biasanya menunjukkan indikasi siklogenesis sebelum badai mencapai intensitas badai tropis. Indikasi pengembangan berkelanjutan dan/atau pelemahan juga dapat ditemukan pada fitur cloud. Dengan menggunakan fitur-fitur ini, pola yang dibentuk oleh awan siklon tropis, pengembangan sistematis yang diharapkan, dan serangkaian aturan, analisis intensitas dan perkiraan dapat dibuat.\n",
    "\n",
    "Asumsi utama dari metode Dvorak adalah bahwa siklon dengan intensitas yang sama cenderung memiliki pola yang sama.\n",
    "\n",
    "\n",
    "Gambar ini menunjukkan beberapa pola pengembangan yang digunakan oleh teknik Dvorak. Setelah pola terdeteksi selama 24 jam, fitur-fitur seperti panjang dan pita dari badai dianalisis lebih lanjut untuk mencapai tertentu\n",
    "Angka-T. Hal ini menghubungkan struktur awan tropis dengan intensitas badai. Namun demikian, teknik ini tidak sempurna dan masih menderita bias subjektif. Karena keterbatasan yang melekat pada metode empiris yang digunakan, ia tidak dapat menentukan intensitas siklon subtropis. Saat ini, dengan keberhasilan penerapan teknik Dvorak selama lebih dari 30 tahun bersama dengan beberapa modifikasi dan peningkatan, teknik ini digunakan di seluruh dunia untuk estimasi intensitas TC. Teknik Dvorak Tingkat Lanjut memberikan perkiraan intensitas TC yang hampir seketika secara objektif. Ini menghilangkan sejumlah besar subjektivitas yang melekat dalam proses dan menghasilkan kesalahan yang mirip dengan manusia dalam banyak kasus. Namun terlepas dari upaya ini, kesalahannya bisa tinggi selama fase awal untuk badai lemah yang sedang bertransisi dalam struktur. "
   ]
  },
  {
   "cell_type": "markdown",
   "metadata": {},
   "source": [
    "#### Sekarang kita telah memahami perlunya membangun model untuk menghilangkan kesalahan manusia, mari kita lihat bagaimana mendekati masalahnya. \n"
   ]
  },
  {
   "cell_type": "markdown",
   "metadata": {},
   "source": [
    "## License \n",
    "\n",
    "This material is released by OpenACC-Standard.org, in collaboration with NVIDIA Corporation, under the Creative Commons Attribution 4.0 International (CC BY 4.0).\n"
   ]
  },
  {
   "cell_type": "markdown",
   "metadata": {},
   "source": [
    "&emsp;&emsp;&emsp;&emsp;&emsp;\n",
    "&emsp;&emsp;&emsp;&emsp;&emsp;\n",
    "&emsp;&emsp;&emsp;&emsp;&emsp;\n",
    "&emsp;&emsp;&emsp;&emsp;&emsp;\n",
    "&emsp;&emsp;&emsp;&emsp;&emsp;\n",
    "&emsp;&emsp;&emsp;&emsp;&emsp;\n",
    "[1]\n",
    "[2](Approach_to_the_Problem_&_Inspecting_and_Cleaning_the_Required_Data.ipynb)\n",
    "[3](Manipulation_of_Image_Data_and_Category_Determination_using_Text_Data.ipynb)\n",
    "[4](Countering_Data_Imbalance.ipynb)\n",
    "[5](Competition.ipynb)\n",
    "&emsp;&emsp;&emsp;&emsp;&emsp;\n",
    "&emsp;&emsp;&emsp;&emsp;&emsp;\n",
    "&emsp;&emsp;&emsp;&emsp;&emsp;\n",
    "&emsp;&emsp;&emsp;&emsp;&emsp;\n",
    "[Next Notebook](Approach_to_the_Problem_&_Inspecting_and_Cleaning_the_Required_Data.ipynb)\n",
    "\n",
    "\n",
    "&emsp;&emsp;&emsp;&emsp;&emsp;\n",
    "&emsp;&emsp;&emsp;&emsp;&emsp;\n",
    "&emsp;&emsp;&emsp;&emsp;&emsp;\n",
    "&emsp;&emsp;&emsp;&emsp;&emsp;\n",
    "&emsp;&emsp;&emsp;&emsp;&emsp;\n",
    "&emsp;&emsp;&emsp;&emsp;&ensp;\n",
    "[Home Page](../Start_Here.ipynb)"
   ]
  }
 ],
 "metadata": {
  "kernelspec": {
   "display_name": "Python 3",
   "language": "python",
   "name": "python3"
  },
  "language_info": {
   "codemirror_mode": {
    "name": "ipython",
    "version": 3
   },
   "file_extension": ".py",
   "mimetype": "text/x-python",
   "name": "python",
   "nbconvert_exporter": "python",
   "pygments_lexer": "ipython3",
   "version": "3.7.6"
  }
 },
 "nbformat": 4,
 "nbformat_minor": 2
}
